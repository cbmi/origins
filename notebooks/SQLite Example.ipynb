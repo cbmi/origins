{
 "metadata": {
  "name": "",
  "signature": "sha256:de6eba7506c461575ac1948dbed945d3eb53d35c06204f4beecfb69b4caa9791"
 },
 "nbformat": 3,
 "nbformat_minor": 0,
 "worksheets": [
  {
   "cells": [
    {
     "cell_type": "code",
     "collapsed": false,
     "input": [
      "# Ensure origins is on the path relative to this notebook\n",
      "import os\n",
      "import sys\n",
      "\n",
      "sys.path.insert(0, os.path.abspath('..'))\n",
      "\n",
      "import origins"
     ],
     "language": "python",
     "metadata": {},
     "outputs": [],
     "prompt_number": 1
    },
    {
     "cell_type": "code",
     "collapsed": false,
     "input": [
      "db = origins.connect('sqlite', path='../tests/data/chinook.sqlite')"
     ],
     "language": "python",
     "metadata": {},
     "outputs": [],
     "prompt_number": 2
    },
    {
     "cell_type": "code",
     "collapsed": false,
     "input": [
      "db.props"
     ],
     "language": "python",
     "metadata": {},
     "outputs": [
      {
       "metadata": {},
       "output_type": "pyout",
       "prompt_number": 3,
       "text": [
        "{u'name': 'chinook.sqlite',\n",
        " u'path': '/Users/ruthb/Code/cbmi/origins/tests/data/chinook.sqlite',\n",
        " u'size': 1067008,\n",
        " u'version': 32}"
       ]
      }
     ],
     "prompt_number": 3
    },
    {
     "cell_type": "code",
     "collapsed": false,
     "input": [
      "db.tables"
     ],
     "language": "python",
     "metadata": {},
     "outputs": [
      {
       "metadata": {},
       "output_type": "pyout",
       "prompt_number": 4,
       "text": [
        "(Table('Album'),\n",
        " Table('Artist'),\n",
        " Table('Customer'),\n",
        " Table('Employee'),\n",
        " Table('Genre'),\n",
        " Table('Invoice'),\n",
        " Table('InvoiceLine'),\n",
        " Table('MediaType'),\n",
        " Table('Playlist'),\n",
        " Table('PlaylistTrack'),\n",
        " Table('Track'))"
       ]
      }
     ],
     "prompt_number": 4
    },
    {
     "cell_type": "code",
     "collapsed": false,
     "input": [
      "db.tables['Employee']"
     ],
     "language": "python",
     "metadata": {},
     "outputs": [
      {
       "metadata": {},
       "output_type": "pyout",
       "prompt_number": 5,
       "text": [
        "Table('Employee')"
       ]
      }
     ],
     "prompt_number": 5
    },
    {
     "cell_type": "code",
     "collapsed": false,
     "input": [
      "db.tables['Employee'].props"
     ],
     "language": "python",
     "metadata": {},
     "outputs": [
      {
       "metadata": {},
       "output_type": "pyout",
       "prompt_number": 6,
       "text": [
        "{u'name': u'Employee'}"
       ]
      }
     ],
     "prompt_number": 6
    },
    {
     "cell_type": "code",
     "collapsed": false,
     "input": [
      "db.tables['Employee'].columns"
     ],
     "language": "python",
     "metadata": {},
     "outputs": [
      {
       "metadata": {},
       "output_type": "pyout",
       "prompt_number": 7,
       "text": [
        "(Column('EmployeeId'),\n",
        " Column('LastName'),\n",
        " Column('FirstName'),\n",
        " Column('Title'),\n",
        " Column('ReportsTo'),\n",
        " Column('BirthDate'),\n",
        " Column('HireDate'),\n",
        " Column('Address'),\n",
        " Column('City'),\n",
        " Column('State'),\n",
        " Column('Country'),\n",
        " Column('PostalCode'),\n",
        " Column('Phone'),\n",
        " Column('Fax'),\n",
        " Column('Email'))"
       ]
      }
     ],
     "prompt_number": 7
    },
    {
     "cell_type": "code",
     "collapsed": false,
     "input": [
      "db.tables['Employee'].columns['Title']"
     ],
     "language": "python",
     "metadata": {},
     "outputs": [
      {
       "metadata": {},
       "output_type": "pyout",
       "prompt_number": 8,
       "text": [
        "Column('Title')"
       ]
      }
     ],
     "prompt_number": 8
    },
    {
     "cell_type": "code",
     "collapsed": false,
     "input": [
      "db.tables['Employee'].columns['Title'].props"
     ],
     "language": "python",
     "metadata": {},
     "outputs": [
      {
       "metadata": {},
       "output_type": "pyout",
       "prompt_number": 9,
       "text": [
        "{u'default_value': None,\n",
        " u'index': 3,\n",
        " u'name': u'Title',\n",
        " u'nullable': True,\n",
        " u'primary_key': 0,\n",
        " u'type': u'NVARCHAR(30)'}"
       ]
      }
     ],
     "prompt_number": 9
    }
   ],
   "metadata": {}
  }
 ]
}