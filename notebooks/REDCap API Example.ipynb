{
 "metadata": {
  "name": "",
  "signature": "sha256:6afe55fc915c3b503e74d9df670cd877810bb146a163b654a949975119341f2f"
 },
 "nbformat": 3,
 "nbformat_minor": 0,
 "worksheets": [
  {
   "cells": [
    {
     "cell_type": "code",
     "collapsed": false,
     "input": [
      "# Ensure origins is on the path relative to this notebook\n",
      "import os\n",
      "import sys\n",
      "\n",
      "sys.path.insert(0, os.path.abspath('..'))\n",
      "\n",
      "import origins"
     ],
     "language": "python",
     "metadata": {},
     "outputs": [],
     "prompt_number": 1
    },
    {
     "cell_type": "code",
     "collapsed": false,
     "input": [
      "project = origins.connect('redcap-api', name='REDCap Demo', url='https://tiu.research.chop.edu/redcap/redcap/api/', token='54C661E0BAFFF731BBE3C642B8277E45')"
     ],
     "language": "python",
     "metadata": {},
     "outputs": [],
     "prompt_number": 2
    },
    {
     "cell_type": "code",
     "collapsed": false,
     "input": [
      "project"
     ],
     "language": "python",
     "metadata": {},
     "outputs": [
      {
       "metadata": {},
       "output_type": "pyout",
       "prompt_number": 3,
       "text": [
        "Project('REDCap Demo')"
       ]
      }
     ],
     "prompt_number": 3
    },
    {
     "cell_type": "code",
     "collapsed": false,
     "input": [
      "project.props"
     ],
     "language": "python",
     "metadata": {},
     "outputs": [
      {
       "metadata": {},
       "output_type": "pyout",
       "prompt_number": 4,
       "text": [
        "{'name': 'REDCap Demo',\n",
        " 'url': 'https://tiu.research.chop.edu/redcap/redcap/api/'}"
       ]
      }
     ],
     "prompt_number": 4
    },
    {
     "cell_type": "code",
     "collapsed": false,
     "input": [
      "project.forms"
     ],
     "language": "python",
     "metadata": {},
     "outputs": [
      {
       "metadata": {},
       "output_type": "pyout",
       "prompt_number": 5,
       "text": [
        "(Form('demographics'),\n",
        " Form('baseline_data'),\n",
        " Form('month_1_data'),\n",
        " Form('month_2_data'),\n",
        " Form('month_3_data'),\n",
        " Form('month_4_data'),\n",
        " Form('month_5_data'),\n",
        " Form('month_6_data'),\n",
        " Form('completion_data'),\n",
        " Form('brfss_2009_section_21_emotional_support_and_life_satisfaction'),\n",
        " Form('brfss_2009_module_1_prediabetes'))"
       ]
      }
     ],
     "prompt_number": 5
    },
    {
     "cell_type": "code",
     "collapsed": false,
     "input": [
      "project.forms['demographics']"
     ],
     "language": "python",
     "metadata": {},
     "outputs": [
      {
       "metadata": {},
       "output_type": "pyout",
       "prompt_number": 6,
       "text": [
        "Form('demographics')"
       ]
      }
     ],
     "prompt_number": 6
    },
    {
     "cell_type": "code",
     "collapsed": false,
     "input": [
      "project.forms['demographics'].props"
     ],
     "language": "python",
     "metadata": {},
     "outputs": [
      {
       "metadata": {},
       "output_type": "pyout",
       "prompt_number": 7,
       "text": [
        "{'name': u'demographics', 'order': 0}"
       ]
      }
     ],
     "prompt_number": 7
    },
    {
     "cell_type": "code",
     "collapsed": false,
     "input": [
      "# Fields can be accessed directly on a form\n",
      "project.forms['demographics'].fields['race']"
     ],
     "language": "python",
     "metadata": {},
     "outputs": [
      {
       "metadata": {},
       "output_type": "pyout",
       "prompt_number": 8,
       "text": [
        "Field('Race')"
       ]
      }
     ],
     "prompt_number": 8
    },
    {
     "cell_type": "code",
     "collapsed": false,
     "input": [
      "project.forms['demographics'].fields['race'].props"
     ],
     "language": "python",
     "metadata": {},
     "outputs": [
      {
       "metadata": {},
       "output_type": "pyout",
       "prompt_number": 9,
       "text": [
        "{'alignment': u'',\n",
        " 'choices': u'0, American Indian/Alaska Native \\\\n 1, Asian \\\\n 2, Native Hawaiian or Other Pacific Islander \\\\n 3, Black or African American \\\\n 4, White \\\\n 5, More Than One Race \\\\n 6, Unknown / Not Reported',\n",
        " 'display_logic': u'',\n",
        " 'identifier': False,\n",
        " 'label': u'Race',\n",
        " 'matrix': u'',\n",
        " 'name': u'race',\n",
        " 'note': u'',\n",
        " 'order': 14,\n",
        " 'required': False,\n",
        " 'survey_num': u'',\n",
        " 'type': u'radio',\n",
        " 'validation_max': u'',\n",
        " 'validation_min': u'',\n",
        " 'validation_type': u''}"
       ]
      }
     ],
     "prompt_number": 9
    },
    {
     "cell_type": "code",
     "collapsed": false,
     "input": [
      "# Forms also may have sections..\n",
      "project.forms['demographics'].sections"
     ],
     "language": "python",
     "metadata": {},
     "outputs": [
      {
       "metadata": {},
       "output_type": "pyout",
       "prompt_number": 10,
       "text": [
        "(Section('demographics'),\n",
        " Section('Demographic Characteristics'),\n",
        " Section('Contact Information'),\n",
        " Section('Dialysis Information'),\n",
        " Section('This is a new section'))"
       ]
      }
     ],
     "prompt_number": 10
    },
    {
     "cell_type": "code",
     "collapsed": false,
     "input": [
      "# ..which contain their subset of fields\n",
      "project.forms['demographics'].sections['demographics'].fields"
     ],
     "language": "python",
     "metadata": {},
     "outputs": [
      {
       "metadata": {},
       "output_type": "pyout",
       "prompt_number": 11,
       "text": [
        "(Field('Study ID'), Field('Checkbox'), Field('Date subject signed consent'))"
       ]
      }
     ],
     "prompt_number": 11
    },
    {
     "cell_type": "code",
     "collapsed": false,
     "input": [
      "# For fields that have value choices, the `choices` property will convert\n",
      "# to a list of choice pairs\n",
      "project.forms['demographics'].fields['race'].choices"
     ],
     "language": "python",
     "metadata": {},
     "outputs": [
      {
       "metadata": {},
       "output_type": "pyout",
       "prompt_number": 12,
       "text": [
        "[(0, u'American Indian/Alaska Native'),\n",
        " (1, u'Asian'),\n",
        " (2, u'Native Hawaiian or Other Pacific Islander'),\n",
        " (3, u'Black or African American'),\n",
        " (4, u'White'),\n",
        " (5, u'More Than One Race'),\n",
        " (6, u'Unknown / Not Reported')]"
       ]
      }
     ],
     "prompt_number": 12
    }
   ],
   "metadata": {}
  }
 ]
}