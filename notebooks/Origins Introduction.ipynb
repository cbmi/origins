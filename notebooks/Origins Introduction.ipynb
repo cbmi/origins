{
 "metadata": {
  "name": "",
  "signature": "sha256:83d4780bcfcd50e0d1a31162e6ffce27a086179eabab1eb414ed99eb1590d936"
 },
 "nbformat": 3,
 "nbformat_minor": 0,
 "worksheets": [
  {
   "cells": [
    {
     "cell_type": "markdown",
     "metadata": {},
     "source": [
      "# Origins\n",
      "\n",
      "Origins is introspection, indexer, and semantic analyzer of data elements. It connects to a source of data and indexes the data elements, gathering as much as metadata as it can."
     ]
    },
    {
     "cell_type": "code",
     "collapsed": false,
     "input": [
      "# Ensure origins is on the path relative to this notebook\n",
      "import os\n",
      "import sys\n",
      "\n",
      "sys.path.insert(0, os.path.abspath('..'))\n",
      "\n",
      "import origins"
     ],
     "language": "python",
     "metadata": {},
     "outputs": [],
     "prompt_number": 2
    },
    {
     "cell_type": "markdown",
     "metadata": {},
     "source": [
      "## Connecting to a data source\n",
      "\n",
      "Data sources are connected to by using Origin's _backends_. To see all available backends and their import locations:"
     ]
    },
    {
     "cell_type": "code",
     "collapsed": false,
     "input": [
      "origins.BACKENDS"
     ],
     "language": "python",
     "metadata": {},
     "outputs": [
      {
       "metadata": {},
       "output_type": "pyout",
       "prompt_number": 3,
       "text": [
        "{u'delimited': u'origins.backends.delimited',\n",
        " u'directory': u'origins.backends.directory',\n",
        " u'excel': u'origins.backends.excel',\n",
        " u'mongodb': u'origins.backends.mongodb',\n",
        " u'mysql': u'origins.backends.mysql',\n",
        " u'noop': u'origins.backends.noop',\n",
        " u'oracle': u'origins.backends.oracle',\n",
        " u'postgresql': u'origins.backends.postgresql',\n",
        " u'redcap-api': u'origins.backends.redcap_api',\n",
        " u'redcap-csv': u'origins.backends.redcap_csv',\n",
        " u'redcap-mysql': u'origins.backends.redcap_mysql',\n",
        " u'solvebio': u'origins.backends.solvebio',\n",
        " u'sqlite': u'origins.backends.sqlite',\n",
        " u'vcf': u'origins.backends.vcf'}"
       ]
      }
     ],
     "prompt_number": 3
    },
    {
     "cell_type": "markdown",
     "metadata": {},
     "source": [
      "Connect to a backend by using the `connect` function. The backend name followed by keyword arguments specific to that backend must be supplied (arguments are listed in the documentation). We will connect to a SQLite build of the [Chinook database](http://chinookdatabase.codeplex.com/)."
     ]
    },
    {
     "cell_type": "code",
     "collapsed": false,
     "input": [
      "db = origins.connect('sqlite', path='../tests/data/chinook.sqlite')"
     ],
     "language": "python",
     "metadata": {},
     "outputs": [],
     "prompt_number": 4
    },
    {
     "cell_type": "markdown",
     "metadata": {},
     "source": [
      "`connect` returns the _origin node_ of the data source. All nodes have attributes which may vary across backends since each have their own unique characteristcs."
     ]
    },
    {
     "cell_type": "code",
     "collapsed": false,
     "input": [
      "db.props"
     ],
     "language": "python",
     "metadata": {},
     "outputs": [
      {
       "metadata": {},
       "output_type": "pyout",
       "prompt_number": 5,
       "text": [
        "{u'name': u'chinook.sqlite',\n",
        " u'path': u'/Users/ruthb/Code/cbmi/origins/tests/data/chinook.sqlite',\n",
        " u'size': 1067008,\n",
        " u'version': 32}"
       ]
      }
     ],
     "prompt_number": 5
    },
    {
     "cell_type": "markdown",
     "metadata": {},
     "source": [
      "Origins simplifies the access layer for storage backends such as databases, tabular files, and the filesystem. Each origin provides one or more properties for accessing the next layer in the structural hierarchy. For relational databases, data elements (the columns in this case) are note defined directly at the database level, but on tables. We can access the tables using the property."
     ]
    },
    {
     "cell_type": "code",
     "collapsed": false,
     "input": [
      "db.tables"
     ],
     "language": "python",
     "metadata": {},
     "outputs": [
      {
       "metadata": {},
       "output_type": "pyout",
       "prompt_number": 6,
       "text": [
        "(Table('Album'),\n",
        " Table('Artist'),\n",
        " Table('Customer'),\n",
        " Table('Employee'),\n",
        " Table('Genre'),\n",
        " Table('Invoice'),\n",
        " Table('InvoiceLine'),\n",
        " Table('MediaType'),\n",
        " Table('Playlist'),\n",
        " Table('PlaylistTrack'),\n",
        " Table('Track'))"
       ]
      }
     ],
     "prompt_number": 6
    },
    {
     "cell_type": "markdown",
     "metadata": {},
     "source": [
      "This returns an immutable sequence of table _nodes_ and supports index and key-based access."
     ]
    },
    {
     "cell_type": "code",
     "collapsed": false,
     "input": [
      "db.tables['Employee'] is db.tables[3]"
     ],
     "language": "python",
     "metadata": {},
     "outputs": [
      {
       "metadata": {},
       "output_type": "pyout",
       "prompt_number": 7,
       "text": [
        "True"
       ]
      }
     ],
     "prompt_number": 7
    },
    {
     "cell_type": "markdown",
     "metadata": {},
     "source": [
      "As shown above with `db.props`, all nodes have one or more boilerplate properties that are extracted from the backend. Nodes are dict-like structures so additional properties can be added and modified."
     ]
    },
    {
     "cell_type": "code",
     "collapsed": false,
     "input": [
      "from datetime import datetime\n",
      "db['extracted'] = datetime.now()\n",
      "db.props"
     ],
     "language": "python",
     "metadata": {},
     "outputs": [
      {
       "metadata": {},
       "output_type": "pyout",
       "prompt_number": 8,
       "text": [
        "{u'extracted': datetime.datetime(2014, 1, 13, 10, 19, 56, 255874),\n",
        " u'name': u'chinook.sqlite',\n",
        " u'path': u'/Users/ruthb/Code/cbmi/origins/tests/data/chinook.sqlite',\n",
        " u'size': 1067008,\n",
        " u'version': 32}"
       ]
      }
     ],
     "prompt_number": 8
    },
    {
     "cell_type": "markdown",
     "metadata": {},
     "source": [
      "Following the same convenience with `db.tables`, tables have a `columns` property."
     ]
    },
    {
     "cell_type": "code",
     "collapsed": false,
     "input": [
      "db.tables['Employee'].columns"
     ],
     "language": "python",
     "metadata": {},
     "outputs": [
      {
       "metadata": {},
       "output_type": "pyout",
       "prompt_number": 9,
       "text": [
        "(Column('EmployeeId'),\n",
        " Column('LastName'),\n",
        " Column('FirstName'),\n",
        " Column('Title'),\n",
        " Column('ReportsTo'),\n",
        " Column('BirthDate'),\n",
        " Column('HireDate'),\n",
        " Column('Address'),\n",
        " Column('City'),\n",
        " Column('State'),\n",
        " Column('Country'),\n",
        " Column('PostalCode'),\n",
        " Column('Phone'),\n",
        " Column('Fax'),\n",
        " Column('Email'))"
       ]
      }
     ],
     "prompt_number": 9
    },
    {
     "cell_type": "markdown",
     "metadata": {},
     "source": [
      "As you would expect, an individual column can be accessed as well: "
     ]
    },
    {
     "cell_type": "code",
     "collapsed": false,
     "input": [
      "db.tables['Employee'].columns['Title'].props"
     ],
     "language": "python",
     "metadata": {},
     "outputs": [
      {
       "metadata": {},
       "output_type": "pyout",
       "prompt_number": 10,
       "text": [
        "{u'default_value': None,\n",
        " u'index': 3,\n",
        " u'name': u'Title',\n",
        " u'nullable': True,\n",
        " u'primary_key': 0,\n",
        " u'type': u'NVARCHAR(30)'}"
       ]
      }
     ],
     "prompt_number": 10
    }
   ],
   "metadata": {}
  }
 ]
}