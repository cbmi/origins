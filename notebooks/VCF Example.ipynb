{
 "metadata": {
  "name": "",
  "signature": "sha256:eb9c2ad23c84a0383b11649486e9eed88c94d8257268912675d94ceeb02bdd44"
 },
 "nbformat": 3,
 "nbformat_minor": 0,
 "worksheets": [
  {
   "cells": [
    {
     "cell_type": "code",
     "collapsed": false,
     "input": [
      "# Ensure origins is on the path relative to this notebook\n",
      "import os\n",
      "import sys\n",
      "\n",
      "sys.path.insert(0, os.path.abspath('..'))\n",
      "\n",
      "import origins"
     ],
     "language": "python",
     "metadata": {},
     "outputs": [],
     "prompt_number": 1
    },
    {
     "cell_type": "code",
     "collapsed": false,
     "input": [
      "vcf = origins.connect('vcf', path='../tests/data/sample.vcf')"
     ],
     "language": "python",
     "metadata": {},
     "outputs": [],
     "prompt_number": 2
    },
    {
     "cell_type": "code",
     "collapsed": false,
     "input": [
      "vcf"
     ],
     "language": "python",
     "metadata": {},
     "outputs": [
      {
       "metadata": {},
       "output_type": "pyout",
       "prompt_number": 3,
       "text": [
        "File('sample.vcf')"
       ]
      }
     ],
     "prompt_number": 3
    },
    {
     "cell_type": "code",
     "collapsed": false,
     "input": [
      "vcf.props"
     ],
     "language": "python",
     "metadata": {},
     "outputs": [
      {
       "metadata": {},
       "output_type": "pyout",
       "prompt_number": 4,
       "text": [
        "{'fileformat': 'VCFv4.1',\n",
        " u'name': 'sample.vcf',\n",
        " u'path': '/Users/ruthb/Code/cbmi/origins/tests/data/sample.vcf',\n",
        " 'reference': 'GRCh37'}"
       ]
      }
     ],
     "prompt_number": 4
    },
    {
     "cell_type": "code",
     "collapsed": false,
     "input": [
      "vcf.fields"
     ],
     "language": "python",
     "metadata": {},
     "outputs": [
      {
       "metadata": {},
       "output_type": "pyout",
       "prompt_number": 5,
       "text": [
        "(Field('CHROM'),\n",
        " Field('POS'),\n",
        " Field('ID'),\n",
        " Field('REF'),\n",
        " Field('ALT'),\n",
        " Field('QUAL'),\n",
        " Field('FILTER'),\n",
        " Field('LDAF'),\n",
        " Field('AVGPOST'),\n",
        " Field('RSQ'),\n",
        " Field('ERATE'),\n",
        " Field('THETA'),\n",
        " Field('CIEND'),\n",
        " Field('CIPOS'),\n",
        " Field('END'),\n",
        " Field('HOMLEN'),\n",
        " Field('HOMSEQ'),\n",
        " Field('SVLEN'),\n",
        " Field('SVTYPE'),\n",
        " Field('AC'),\n",
        " Field('AN'),\n",
        " Field('AA'),\n",
        " Field('AF'),\n",
        " Field('AMR_AF'),\n",
        " Field('ASN_AF'),\n",
        " Field('AFR_AF'),\n",
        " Field('EUR_AF'),\n",
        " Field('VT'),\n",
        " Field('SNPSOURCE'),\n",
        " Field('GT'),\n",
        " Field('DS'),\n",
        " Field('GL'))"
       ]
      }
     ],
     "prompt_number": 5
    },
    {
     "cell_type": "code",
     "collapsed": false,
     "input": [
      "vcf.fields['GT']"
     ],
     "language": "python",
     "metadata": {},
     "outputs": [
      {
       "metadata": {},
       "output_type": "pyout",
       "prompt_number": 6,
       "text": [
        "Field('GT')"
       ]
      }
     ],
     "prompt_number": 6
    },
    {
     "cell_type": "code",
     "collapsed": false,
     "input": [
      "vcf.fields['GT'].props"
     ],
     "language": "python",
     "metadata": {},
     "outputs": [
      {
       "metadata": {},
       "output_type": "pyout",
       "prompt_number": 7,
       "text": [
        "{u'description': 'Genotype',\n",
        " u'index': 29,\n",
        " u'name': 'GT',\n",
        " u'num_values': 1,\n",
        " u'type': 'String'}"
       ]
      }
     ],
     "prompt_number": 7
    }
   ],
   "metadata": {}
  }
 ]
}