{
 "metadata": {
  "name": "",
  "signature": "sha256:a73acf4797b88a0ae3c456c683a2253fdbf6803834b5104d9c9807ee03167df7"
 },
 "nbformat": 3,
 "nbformat_minor": 0,
 "worksheets": [
  {
   "cells": [
    {
     "cell_type": "code",
     "collapsed": false,
     "input": [
      "# Ensure origins is on the path relative to this notebook\n",
      "import os\n",
      "import sys\n",
      "\n",
      "sys.path.insert(0, os.path.abspath('..'))\n",
      "\n",
      "import origins"
     ],
     "language": "python",
     "metadata": {},
     "outputs": [],
     "prompt_number": 1
    },
    {
     "cell_type": "code",
     "collapsed": false,
     "input": [
      "app = origins.connect('harvest', url='http://harvest.research.chop.edu/demo/api/')"
     ],
     "language": "python",
     "metadata": {},
     "outputs": [],
     "prompt_number": 2
    },
    {
     "cell_type": "code",
     "collapsed": false,
     "input": [
      "app.props"
     ],
     "language": "python",
     "metadata": {},
     "outputs": [
      {
       "metadata": {},
       "output_type": "pyout",
       "prompt_number": 3,
       "text": [
        "{u'url': 'http://harvest.research.chop.edu/demo/api/', u'version': u'2.2.0'}"
       ]
      }
     ],
     "prompt_number": 3
    },
    {
     "cell_type": "code",
     "collapsed": false,
     "input": [
      "app.categories"
     ],
     "language": "python",
     "metadata": {},
     "outputs": [
      {
       "metadata": {},
       "output_type": "pyout",
       "prompt_number": 4,
       "text": [
        "(Category('CHEM 7'),\n",
        " Category('Patient Details'),\n",
        " Category('HIV'),\n",
        " Category('Encounter'),\n",
        " Category('CBC'),\n",
        " Category('Disease Management'),\n",
        " Category('Lab Measurements'))"
       ]
      }
     ],
     "prompt_number": 4
    },
    {
     "cell_type": "code",
     "collapsed": false,
     "input": [
      "app.categories['CBC']"
     ],
     "language": "python",
     "metadata": {},
     "outputs": [
      {
       "metadata": {},
       "output_type": "pyout",
       "prompt_number": 5,
       "text": [
        "Category('CBC')"
       ]
      }
     ],
     "prompt_number": 5
    },
    {
     "cell_type": "code",
     "collapsed": false,
     "input": [
      "app.categories['CBC'].props"
     ],
     "language": "python",
     "metadata": {},
     "outputs": [
      {
       "metadata": {},
       "output_type": "pyout",
       "prompt_number": 6,
       "text": [
        "{u'id': 4, u'name': u'CBC', u'order': 3.1}"
       ]
      }
     ],
     "prompt_number": 6
    },
    {
     "cell_type": "code",
     "collapsed": false,
     "input": [
      "app.categories['CBC'].concepts"
     ],
     "language": "python",
     "metadata": {},
     "outputs": [
      {
       "metadata": {},
       "output_type": "pyout",
       "prompt_number": 7,
       "text": [
        "(Concept('White Blood Cells (WBC)'),\n",
        " Concept('Platelets'),\n",
        " Concept('Mean Corpuscular Volume (MCV)'),\n",
        " Concept('Hemoglobin (HGB)'))"
       ]
      }
     ],
     "prompt_number": 7
    },
    {
     "cell_type": "code",
     "collapsed": false,
     "input": [
      "app.categories['CBC'].concepts['platelets']"
     ],
     "language": "python",
     "metadata": {},
     "outputs": [
      {
       "metadata": {},
       "output_type": "pyout",
       "prompt_number": 8,
       "text": [
        "Concept('Platelets')"
       ]
      }
     ],
     "prompt_number": 8
    },
    {
     "cell_type": "code",
     "collapsed": false,
     "input": [
      "app.categories['CBC'].concepts['platelets'].props"
     ],
     "language": "python",
     "metadata": {},
     "outputs": [
      {
       "metadata": {},
       "output_type": "pyout",
       "prompt_number": 9,
       "text": [
        "{u'description': u'Minute, nonnucleated, disklike cytoplasmic bodies found in the blood plasma of mammals, derived from a megakaryocyte and function to promote blood clotting.',\n",
        " u'formatter_name': u'Formatter',\n",
        " u'id': 32,\n",
        " u'keywords': u'',\n",
        " u'modified': u'2012-10-11T09:56:23.590',\n",
        " u'name': u'Platelets',\n",
        " u'order': None,\n",
        " u'plural_name': u'Platelets',\n",
        " u'published': True,\n",
        " u'queryable': True,\n",
        " u'sortable': True,\n",
        " u'viewable': True}"
       ]
      }
     ],
     "prompt_number": 9
    },
    {
     "cell_type": "code",
     "collapsed": false,
     "input": [
      "app.categories['CBC'].concepts['platelets'].fields"
     ],
     "language": "python",
     "metadata": {},
     "outputs": [
      {
       "metadata": {},
       "output_type": "pyout",
       "prompt_number": 10,
       "text": [
        "(Field('Platelets'))"
       ]
      }
     ],
     "prompt_number": 10
    },
    {
     "cell_type": "code",
     "collapsed": false,
     "input": [
      "app.categories['CBC'].concepts['platelets'].fields['platelets']"
     ],
     "language": "python",
     "metadata": {},
     "outputs": [
      {
       "metadata": {},
       "output_type": "pyout",
       "prompt_number": 11,
       "text": [
        "Field('Platelets')"
       ]
      }
     ],
     "prompt_number": 11
    },
    {
     "cell_type": "code",
     "collapsed": false,
     "input": [
      "app.categories['CBC'].concepts['platelets'].fields['platelets'].props"
     ],
     "language": "python",
     "metadata": {},
     "outputs": [
      {
       "metadata": {},
       "output_type": "pyout",
       "prompt_number": 12,
       "text": [
        "{u'alt_name': None,\n",
        " u'alt_plural_name': u'Platelets',\n",
        " u'app_name': u'openmrs',\n",
        " u'data_modified': None,\n",
        " u'description': u'Minute, nonnucleated, disklike cytoplasmic bodies found in the blood plasma of mammals, derived from a megakaryocyte and function to promote blood clotting.',\n",
        " u'enumerable': False,\n",
        " u'field_name': u'platelets',\n",
        " u'id': 33,\n",
        " u'internal_type': u'float',\n",
        " u'keywords': u'',\n",
        " u'model_name': u'labresult',\n",
        " u'modified': u'2012-10-03T21:04:55.570',\n",
        " u'name': u'Platelets',\n",
        " u'nullable': True,\n",
        " u'plural_name': u'Platelets',\n",
        " u'plural_unit': u'',\n",
        " u'published': True,\n",
        " u'searchable': False,\n",
        " u'simple_type': u'number',\n",
        " u'unit': u''}"
       ]
      }
     ],
     "prompt_number": 12
    }
   ],
   "metadata": {}
  }
 ]
}