{
 "metadata": {
  "name": "",
  "signature": "sha256:d676cc9980ec86ccb99d2285e02121cef48e8902296545ea8c7a659525f8b2f8"
 },
 "nbformat": 3,
 "nbformat_minor": 0,
 "worksheets": [
  {
   "cells": [
    {
     "cell_type": "code",
     "collapsed": false,
     "input": [
      "# Ensure origins is on the path relative to this notebook\n",
      "import os\n",
      "import sys\n",
      "\n",
      "sys.path.insert(0, os.path.abspath('..'))\n",
      "\n",
      "import origins"
     ],
     "language": "python",
     "metadata": {},
     "outputs": [],
     "prompt_number": 1
    },
    {
     "cell_type": "code",
     "collapsed": false,
     "input": [
      "project = origins.connect('redcap-mysql', project='redcap_demo')"
     ],
     "language": "python",
     "metadata": {},
     "outputs": [],
     "prompt_number": 2
    },
    {
     "cell_type": "code",
     "collapsed": false,
     "input": [
      "project"
     ],
     "language": "python",
     "metadata": {},
     "outputs": [
      {
       "metadata": {},
       "output_type": "pyout",
       "prompt_number": 3,
       "text": [
        "Project('REDCap Demo Database')"
       ]
      }
     ],
     "prompt_number": 3
    },
    {
     "cell_type": "code",
     "collapsed": false,
     "input": [
      "project.props"
     ],
     "language": "python",
     "metadata": {},
     "outputs": [
      {
       "metadata": {},
       "output_type": "pyout",
       "prompt_number": 4,
       "text": [
        "{u'label': 'REDCap Demo Database', u'name': 'redcap_demo'}"
       ]
      }
     ],
     "prompt_number": 4
    },
    {
     "cell_type": "code",
     "collapsed": false,
     "input": [
      "project.forms"
     ],
     "language": "python",
     "metadata": {},
     "outputs": [
      {
       "metadata": {},
       "output_type": "pyout",
       "prompt_number": 5,
       "text": [
        "(Form('Demographics'),\n",
        " Form('Baseline Data'),\n",
        " Form('Month 1 Data'),\n",
        " Form('Month 2 Data'),\n",
        " Form('Month 3 Data'),\n",
        " Form('Month 4 Data'),\n",
        " Form('Month 5 Data'),\n",
        " Form('Month 6 Data'),\n",
        " Form('Completion Data'),\n",
        " Form('BRFSS 2009 Section 21: Emotional Support And Life Satisfaction'),\n",
        " Form('BRFSS 2009 Module 1: Pre-Diabetes'))"
       ]
      }
     ],
     "prompt_number": 5
    },
    {
     "cell_type": "code",
     "collapsed": false,
     "input": [
      "project.forms['demographics']"
     ],
     "language": "python",
     "metadata": {},
     "outputs": [
      {
       "metadata": {},
       "output_type": "pyout",
       "prompt_number": 6,
       "text": [
        "Form('Demographics')"
       ]
      }
     ],
     "prompt_number": 6
    },
    {
     "cell_type": "code",
     "collapsed": false,
     "input": [
      "project.forms['demographics'].props"
     ],
     "language": "python",
     "metadata": {},
     "outputs": [
      {
       "metadata": {},
       "output_type": "pyout",
       "prompt_number": 7,
       "text": [
        "{u'label': 'Demographics', u'name': 'demographics', u'order': 0}"
       ]
      }
     ],
     "prompt_number": 7
    },
    {
     "cell_type": "code",
     "collapsed": false,
     "input": [
      "project.forms['demographics'].sections"
     ],
     "language": "python",
     "metadata": {},
     "outputs": [
      {
       "metadata": {},
       "output_type": "pyout",
       "prompt_number": 8,
       "text": [
        "(Section('demographics'),\n",
        " Section('Demographic Characteristics'),\n",
        " Section('Contact Information'),\n",
        " Section('Dialysis Information'),\n",
        " Section('This is a new section'),\n",
        " Section('Form Status'))"
       ]
      }
     ],
     "prompt_number": 8
    },
    {
     "cell_type": "code",
     "collapsed": false,
     "input": [
      "project.forms['demographics'].sections['contact information']"
     ],
     "language": "python",
     "metadata": {},
     "outputs": [
      {
       "metadata": {},
       "output_type": "pyout",
       "prompt_number": 9,
       "text": [
        "Section('Contact Information')"
       ]
      }
     ],
     "prompt_number": 9
    },
    {
     "cell_type": "code",
     "collapsed": false,
     "input": [
      "project.forms['demographics'].sections['contact information'].props"
     ],
     "language": "python",
     "metadata": {},
     "outputs": [
      {
       "metadata": {},
       "output_type": "pyout",
       "prompt_number": 10,
       "text": [
        "{u'name': 'Contact Information', u'order': 2}"
       ]
      }
     ],
     "prompt_number": 10
    },
    {
     "cell_type": "code",
     "collapsed": false,
     "input": [
      "project.forms['demographics'].sections['contact information'].fields"
     ],
     "language": "python",
     "metadata": {},
     "outputs": [
      {
       "metadata": {},
       "output_type": "pyout",
       "prompt_number": 11,
       "text": [
        "(Field('Phone number'),\n",
        " Field('Second phone number'),\n",
        " Field('Gender'),\n",
        " Field('E-mail'),\n",
        " Field('How many times has the subject given birth?'),\n",
        " Field('Has the subject given birth before?'),\n",
        " Field('Ethnicity'),\n",
        " Field('Race'),\n",
        " Field('Age (years)'),\n",
        " Field('Date of birth'),\n",
        " Field('Height (cm)'),\n",
        " Field('BMI'),\n",
        " Field('Weight (kilograms)'),\n",
        " Field('Patient document'),\n",
        " Field('Patient has a diagnosis of diabetes mellitus?'),\n",
        " Field('Any comorbid condition'),\n",
        " Field('Type of Diabetes Mellitus'))"
       ]
      }
     ],
     "prompt_number": 11
    },
    {
     "cell_type": "code",
     "collapsed": false,
     "input": [
      "project.forms['demographics'].sections['contact information'].fields['race']"
     ],
     "language": "python",
     "metadata": {},
     "outputs": [
      {
       "metadata": {},
       "output_type": "pyout",
       "prompt_number": 12,
       "text": [
        "Field('Race')"
       ]
      }
     ],
     "prompt_number": 12
    },
    {
     "cell_type": "code",
     "collapsed": false,
     "input": [
      "project.forms['demographics'].sections['contact information'].fields['race'].props"
     ],
     "language": "python",
     "metadata": {},
     "outputs": [
      {
       "metadata": {},
       "output_type": "pyout",
       "prompt_number": 13,
       "text": [
        "{u'alignment': None,\n",
        " u'choices': '0, American Indian/Alaska Native \\\\n 1, Asian \\\\n 2, Native Hawaiian or Other Pacific Islander \\\\n 3, Black or African American \\\\n 4, White \\\\n 5, More Than One Race \\\\n 6, Unknown / Not Reported',\n",
        " u'display_logic': None,\n",
        " u'identifier': False,\n",
        " u'label': 'Race',\n",
        " u'matrix': None,\n",
        " u'name': 'race',\n",
        " u'note': None,\n",
        " u'order': 15.0,\n",
        " u'required': False,\n",
        " u'survey_num': None,\n",
        " u'type': 'radio',\n",
        " u'validation_max': None,\n",
        " u'validation_min': None,\n",
        " u'validation_type': None}"
       ]
      }
     ],
     "prompt_number": 13
    },
    {
     "cell_type": "code",
     "collapsed": false,
     "input": [
      "# For fields that have value choices, the `choices` property will convert\n",
      "# to a list of choice pairs\n",
      "project.forms['demographics'].sections['contact information'].fields['race'].choices"
     ],
     "language": "python",
     "metadata": {},
     "outputs": [
      {
       "metadata": {},
       "output_type": "pyout",
       "prompt_number": 14,
       "text": [
        "[(0, u'American Indian/Alaska Native'),\n",
        " (1, u'Asian'),\n",
        " (2, u'Native Hawaiian or Other Pacific Islander'),\n",
        " (3, u'Black or African American'),\n",
        " (4, u'White'),\n",
        " (5, u'More Than One Race'),\n",
        " (6, u'Unknown / Not Reported')]"
       ]
      }
     ],
     "prompt_number": 14
    }
   ],
   "metadata": {}
  }
 ]
}