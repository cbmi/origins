{
 "metadata": {
  "name": "",
  "signature": "sha256:9244a8130236297b9bfc0f8e84607694d2cac15964c127ecdad3c056af720362"
 },
 "nbformat": 3,
 "nbformat_minor": 0,
 "worksheets": [
  {
   "cells": [
    {
     "cell_type": "code",
     "collapsed": false,
     "input": [
      "# Ensure origins is on the path relative to this notebook\n",
      "import os\n",
      "import sys\n",
      "\n",
      "sys.path.insert(0, os.path.abspath('..'))\n",
      "\n",
      "import origins"
     ],
     "language": "python",
     "metadata": {},
     "outputs": [],
     "prompt_number": 1
    },
    {
     "cell_type": "code",
     "collapsed": false,
     "input": [
      "project = origins.connect('redcap-csv', path='../tests/data/redcap_demo.csv')"
     ],
     "language": "python",
     "metadata": {},
     "outputs": [],
     "prompt_number": 2
    },
    {
     "cell_type": "code",
     "collapsed": false,
     "input": [
      "project"
     ],
     "language": "python",
     "metadata": {},
     "outputs": [
      {
       "metadata": {},
       "output_type": "pyout",
       "prompt_number": 3,
       "text": [
        "Project('redcap_demo.csv')"
       ]
      }
     ],
     "prompt_number": 3
    },
    {
     "cell_type": "code",
     "collapsed": false,
     "input": [
      "project.props"
     ],
     "language": "python",
     "metadata": {},
     "outputs": [
      {
       "metadata": {},
       "output_type": "pyout",
       "prompt_number": 4,
       "text": [
        "{u'name': 'redcap_demo.csv',\n",
        " u'path': '/Users/ruthb/Code/cbmi/origins/tests/data/redcap_demo.csv'}"
       ]
      }
     ],
     "prompt_number": 4
    },
    {
     "cell_type": "code",
     "collapsed": false,
     "input": [
      "project.forms"
     ],
     "language": "python",
     "metadata": {},
     "outputs": [
      {
       "metadata": {},
       "output_type": "pyout",
       "prompt_number": 5,
       "text": [
        "(Form('demographics'),\n",
        " Form('baseline_data'),\n",
        " Form('month_1_data'),\n",
        " Form('month_2_data'),\n",
        " Form('month_3_data'),\n",
        " Form('month_4_data'),\n",
        " Form('month_5_data'),\n",
        " Form('month_6_data'),\n",
        " Form('completion_data'),\n",
        " Form('brfss_2009_section_21_emotional_support_and_life_satisfaction'),\n",
        " Form('brfss_2009_module_1_prediabetes'))"
       ]
      }
     ],
     "prompt_number": 5
    },
    {
     "cell_type": "code",
     "collapsed": false,
     "input": [
      "project.forms['demographics']"
     ],
     "language": "python",
     "metadata": {},
     "outputs": [
      {
       "metadata": {},
       "output_type": "pyout",
       "prompt_number": 6,
       "text": [
        "Form('demographics')"
       ]
      }
     ],
     "prompt_number": 6
    },
    {
     "cell_type": "code",
     "collapsed": false,
     "input": [
      "project.forms['demographics'].sections"
     ],
     "language": "python",
     "metadata": {},
     "outputs": [
      {
       "metadata": {},
       "output_type": "pyout",
       "prompt_number": 7,
       "text": [
        "(Section('demographics'),\n",
        " Section('Demographic Characteristics'),\n",
        " Section('Contact Information'),\n",
        " Section('Dialysis Information'),\n",
        " Section('This is a new section'))"
       ]
      }
     ],
     "prompt_number": 7
    },
    {
     "cell_type": "code",
     "collapsed": false,
     "input": [
      "project.forms['demographics'].fields"
     ],
     "language": "python",
     "metadata": {},
     "outputs": [
      {
       "metadata": {},
       "output_type": "pyout",
       "prompt_number": 8,
       "text": [
        "(Field('Study ID'),\n",
        " Field('Checkbox'),\n",
        " Field('Date subject signed consent'),\n",
        " Field('file upload'),\n",
        " Field('First Name'),\n",
        " Field('Last Name'),\n",
        " Field('Street, City, State, ZIP'),\n",
        " Field('Phone number'),\n",
        " Field('Second phone number'),\n",
        " Field('Gender'),\n",
        " Field('E-mail'),\n",
        " Field('How many times has the subject given birth?'),\n",
        " Field('Has the subject given birth before?'),\n",
        " Field('Ethnicity'),\n",
        " Field('Race'),\n",
        " Field('Age (years)'),\n",
        " Field('Date of birth'),\n",
        " Field('Height (cm)'),\n",
        " Field('BMI'),\n",
        " Field('Weight (kilograms)'),\n",
        " Field('Patient document'),\n",
        " Field('Patient has a diagnosis of diabetes mellitus?'),\n",
        " Field('Any comorbid condition'),\n",
        " Field('Type of Diabetes Mellitus'),\n",
        " Field('Date of first outpatient dialysis treatment'),\n",
        " Field('Type of vascular access'),\n",
        " Field('Location of currently used vascular access'),\n",
        " Field('Name of dialysis unit'),\n",
        " Field('Phone number'),\n",
        " Field('Days of the week patient is dialyzed'),\n",
        " Field('Shift patient is dialyzed'),\n",
        " Field('Comments'),\n",
        " Field('Etiology of ESRD'),\n",
        " Field('Test'))"
       ]
      }
     ],
     "prompt_number": 8
    },
    {
     "cell_type": "code",
     "collapsed": false,
     "input": [
      "project.forms['demographics'].fields['race']"
     ],
     "language": "python",
     "metadata": {},
     "outputs": [
      {
       "metadata": {},
       "output_type": "pyout",
       "prompt_number": 9,
       "text": [
        "Field('Race')"
       ]
      }
     ],
     "prompt_number": 9
    },
    {
     "cell_type": "code",
     "collapsed": false,
     "input": [
      "project.forms['demographics'].fields['race'].props"
     ],
     "language": "python",
     "metadata": {},
     "outputs": [
      {
       "metadata": {},
       "output_type": "pyout",
       "prompt_number": 10,
       "text": [
        "{u'alignment': u'',\n",
        " u'choices': u'0, American Indian/Alaska Native \\\\n 1, Asian \\\\n 2, Native Hawaiian or Other Pacific Islander \\\\n 3, Black or African American \\\\n 4, White \\\\n 5, More Than One Race \\\\n 6, Unknown / Not Reported',\n",
        " u'display_logic': u'',\n",
        " u'identifier': False,\n",
        " u'label': u'Race',\n",
        " u'matrix': u'',\n",
        " u'name': u'race',\n",
        " u'note': u'',\n",
        " u'order': 14,\n",
        " u'required': False,\n",
        " u'survey_num': u'',\n",
        " u'type': u'radio',\n",
        " u'validation_max': u'',\n",
        " u'validation_min': u'',\n",
        " u'validation_type': u''}"
       ]
      }
     ],
     "prompt_number": 10
    },
    {
     "cell_type": "code",
     "collapsed": false,
     "input": [
      "# For fields that have value choices, the `choices` property will convert\n",
      "# to a list of choice pairs\n",
      "project.forms['demographics'].fields['race'].choices"
     ],
     "language": "python",
     "metadata": {},
     "outputs": [
      {
       "metadata": {},
       "output_type": "pyout",
       "prompt_number": 11,
       "text": [
        "[(0, u'American Indian/Alaska Native'),\n",
        " (1, u'Asian'),\n",
        " (2, u'Native Hawaiian or Other Pacific Islander'),\n",
        " (3, u'Black or African American'),\n",
        " (4, u'White'),\n",
        " (5, u'More Than One Race'),\n",
        " (6, u'Unknown / Not Reported')]"
       ]
      }
     ],
     "prompt_number": 11
    }
   ],
   "metadata": {}
  }
 ]
}