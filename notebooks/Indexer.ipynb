{
 "metadata": {
  "name": "",
  "signature": "sha256:485b7cc0b6e99089cb8fc41cc4c6bea42f751ea8cda689a7e4ac2d11d72a1f1e"
 },
 "nbformat": 3,
 "nbformat_minor": 0,
 "worksheets": [
  {
   "cells": [
    {
     "cell_type": "code",
     "collapsed": false,
     "input": [
      "# Ensure origins is on the path relative to this notebook\n",
      "import os\n",
      "import sys\n",
      "\n",
      "sys.path.insert(0, os.path.abspath('..'))\n",
      "\n",
      "from pprint import pprint\n",
      "from origins import indexer"
     ],
     "language": "python",
     "metadata": {},
     "outputs": [],
     "prompt_number": 1
    },
    {
     "cell_type": "markdown",
     "metadata": {},
     "source": [
      "# Initial Relationships\n",
      "\n",
      "List of `(source, target)` pairs where `source` and `target` represent pairs of the `resource` and `element`."
     ]
    },
    {
     "cell_type": "code",
     "collapsed": false,
     "input": [
      "relationships = [\n",
      "    [('a', 4), ('b', 1)],\n",
      "    [('b', 4), ('c', 1)],\n",
      "    [('b', 2), ('e', 1)],\n",
      "    [('c', 2), ('d', 1)],\n",
      "]"
     ],
     "language": "python",
     "metadata": {},
     "outputs": [],
     "prompt_number": 2
    },
    {
     "cell_type": "markdown",
     "metadata": {},
     "source": [
      "# Build\n",
      "\n",
      "Builds the initial index based on the relationships passed in. The output is a `dict` of *sources* to a `dict` of *targets*. The reference stored for a **forward relationship** is the relationship itself:\n",
      "\n",
      "```python\n",
      "{\n",
      "    'a': {\n",
      "        'b': [('a', 4), ('b', 1)]\n",
      "    }\n",
      "}\n",
      "```\n",
      "\n",
      "A **reverse relationship** is stored as a reference to the root of the forward relationship:\n",
      "\n",
      "```python\n",
      "{\n",
      "    'b': {\n",
      "        'a': 'a',\n",
      "    }\n",
      "}\n",
      "```\n",
      "\n",
      "A **relationship path** is stored as a reference to the next source in the path. For example, if a path `a -> b -> c` exists, the reference stored for `a -> c` is `b`:\n",
      "\n",
      "```python\n",
      "{\n",
      "    'a': {\n",
      "        'c': 'b',\n",
      "    }\n",
      "}\n",
      "```"
     ]
    },
    {
     "cell_type": "code",
     "collapsed": false,
     "input": [
      "index = indexer.build(relationships)\n",
      "pprint(index)"
     ],
     "language": "python",
     "metadata": {},
     "outputs": [
      {
       "output_type": "stream",
       "stream": "stdout",
       "text": [
        "{'a': {'b': [('a', 4), ('b', 1)]},\n",
        " 'b': {'a': 'a', 'c': [('b', 4), ('c', 1)], 'e': [('b', 2), ('e', 1)]},\n",
        " 'c': {'b': 'b', 'd': [('c', 2), ('d', 1)]},\n",
        " 'd': {'c': 'c'},\n",
        " 'e': {'b': 'b'}}\n"
       ]
      }
     ],
     "prompt_number": 3
    },
    {
     "cell_type": "markdown",
     "metadata": {},
     "source": [
      "# Crawler\n",
      "\n",
      "Given an `index` all sources are crawled for all other targets. References to the shortest path are filled in as they are found."
     ]
    },
    {
     "cell_type": "code",
     "collapsed": false,
     "input": [
      "crawled_index = indexer.crawl(index)\n",
      "pprint(crawled_index)"
     ],
     "language": "python",
     "metadata": {},
     "outputs": [
      {
       "output_type": "stream",
       "stream": "stdout",
       "text": [
        "{'a': {'a': 'b', 'b': [('a', 4), ('b', 1)], 'c': 'b', 'd': 'b', 'e': 'b'},\n",
        " 'b': {'a': 'a',\n",
        "       'b': 'a',\n",
        "       'c': [('b', 4), ('c', 1)],\n",
        "       'd': 'c',\n",
        "       'e': [('b', 2), ('e', 1)]},\n",
        " 'c': {'a': 'b', 'b': 'b', 'c': 'b', 'd': [('c', 2), ('d', 1)], 'e': 'b'},\n",
        " 'd': {'a': 'c', 'b': 'c', 'c': 'c', 'd': 'c', 'e': 'c'},\n",
        " 'e': {'a': 'b', 'b': 'b', 'c': 'b', 'd': 'b', 'e': 'b'}}\n"
       ]
      }
     ],
     "prompt_number": 4
    },
    {
     "cell_type": "markdown",
     "metadata": {},
     "source": [
      "# Resolver\n",
      "\n",
      "Given an `index` of references, *resolve it* by building the paths from each each source to each target. This enables taking an arbitrary source and target element in the index and getting the path between them."
     ]
    },
    {
     "cell_type": "code",
     "collapsed": false,
     "input": [
      "resolved_index = indexer.resolve(crawled_index)\n",
      "pprint(resolved_index)"
     ],
     "language": "python",
     "metadata": {},
     "outputs": [
      {
       "output_type": "stream",
       "stream": "stdout",
       "text": [
        "{'a': {'a': [],\n",
        "       'b': [[('a', 4), ('b', 1)]],\n",
        "       'c': [[('a', 4), ('b', 1)], [('b', 4), ('c', 1)]],\n",
        "       'd': [[('a', 4), ('b', 1)],\n",
        "             [('b', 4), ('c', 1)],\n",
        "             [('c', 2), ('d', 1)]],\n",
        "       'e': [[('a', 4), ('b', 1)], [('b', 2), ('e', 1)]]},\n",
        " 'b': {'a': [[('b', 1), ('a', 4)]],\n",
        "       'b': [],\n",
        "       'c': [[('b', 4), ('c', 1)]],\n",
        "       'd': [[('b', 4), ('c', 1)], [('c', 2), ('d', 1)]],\n",
        "       'e': [[('b', 2), ('e', 1)]]},\n",
        " 'c': {'a': [[('c', 1), ('b', 4)], [('b', 1), ('a', 4)]],\n",
        "       'b': [[('c', 1), ('b', 4)]],\n",
        "       'c': [],\n",
        "       'd': [[('c', 2), ('d', 1)]],\n",
        "       'e': [[('c', 1), ('b', 4)], [('b', 2), ('e', 1)]]},\n",
        " 'd': {'a': [[('d', 1), ('c', 2)],\n",
        "             [('c', 1), ('b', 4)],\n",
        "             [('b', 1), ('a', 4)]],\n",
        "       'b': [[('d', 1), ('c', 2)], [('c', 1), ('b', 4)]],\n",
        "       'c': [[('d', 1), ('c', 2)]],\n",
        "       'd': [],\n",
        "       'e': [[('d', 1), ('c', 2)],\n",
        "             [('c', 1), ('b', 4)],\n",
        "             [('b', 2), ('e', 1)]]},\n",
        " 'e': {'a': [[('e', 1), ('b', 2)], [('b', 1), ('a', 4)]],\n",
        "       'b': [[('e', 1), ('b', 2)]],\n",
        "       'c': [[('e', 1), ('b', 2)], [('b', 4), ('c', 1)]],\n",
        "       'd': [[('e', 1), ('b', 2)],\n",
        "             [('b', 4), ('c', 1)],\n",
        "             [('c', 2), ('d', 1)]],\n",
        "       'e': []}}\n"
       ]
      }
     ],
     "prompt_number": 5
    }
   ],
   "metadata": {}
  }
 ]
}