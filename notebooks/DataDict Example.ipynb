{
 "metadata": {
  "name": "",
  "signature": "sha256:83d52129ded6aa9f363ccd0f68cbeef6dc8ebcfdee2fb20d8da318631ac4004b"
 },
 "nbformat": 3,
 "nbformat_minor": 0,
 "worksheets": [
  {
   "cells": [
    {
     "cell_type": "code",
     "collapsed": false,
     "input": [
      "# Ensure origins is on the path relative to this notebook\n",
      "import os\n",
      "import sys\n",
      "\n",
      "sys.path.insert(0, os.path.abspath('..'))\n",
      "\n",
      "import origins"
     ],
     "language": "python",
     "metadata": {},
     "outputs": [],
     "prompt_number": 1
    },
    {
     "cell_type": "code",
     "collapsed": false,
     "input": [
      "datadict = origins.connect('datadict', path='../tests/data/chinook_tracks_datadict.csv')"
     ],
     "language": "python",
     "metadata": {},
     "outputs": [],
     "prompt_number": 2
    },
    {
     "cell_type": "code",
     "collapsed": false,
     "input": [
      "datadict"
     ],
     "language": "python",
     "metadata": {},
     "outputs": [
      {
       "metadata": {},
       "output_type": "pyout",
       "prompt_number": 3,
       "text": [
        "File('chinook_tracks_datadict.csv')"
       ]
      }
     ],
     "prompt_number": 3
    },
    {
     "cell_type": "code",
     "collapsed": false,
     "input": [
      "datadict.props"
     ],
     "language": "python",
     "metadata": {},
     "outputs": [
      {
       "metadata": {},
       "output_type": "pyout",
       "prompt_number": 4,
       "text": [
        "{'delimiter': ',',\n",
        " 'name': 'chinook_tracks_datadict.csv',\n",
        " 'path': '/Users/ruthb/Code/cbmi/origins/tests/data/chinook_tracks_datadict.csv'}"
       ]
      }
     ],
     "prompt_number": 4
    },
    {
     "cell_type": "code",
     "collapsed": false,
     "input": [
      "datadict.fields"
     ],
     "language": "python",
     "metadata": {},
     "outputs": [
      {
       "metadata": {},
       "output_type": "pyout",
       "prompt_number": 5,
       "text": [
        "(Field('TrackId'),\n",
        " Field('Name'),\n",
        " Field('AlbumId'),\n",
        " Field('MediaTypeId'),\n",
        " Field('GenreId'),\n",
        " Field('Composer'),\n",
        " Field('Milliseconds'),\n",
        " Field('Bytes'),\n",
        " Field('UnitPrice'))"
       ]
      }
     ],
     "prompt_number": 5
    },
    {
     "cell_type": "code",
     "collapsed": false,
     "input": [
      "datadict.fields['Name']"
     ],
     "language": "python",
     "metadata": {},
     "outputs": [
      {
       "metadata": {},
       "output_type": "pyout",
       "prompt_number": 6,
       "text": [
        "Field('Name')"
       ]
      }
     ],
     "prompt_number": 6
    },
    {
     "cell_type": "code",
     "collapsed": false,
     "input": [
      "datadict.fields['Name'].props"
     ],
     "language": "python",
     "metadata": {},
     "outputs": [
      {
       "metadata": {},
       "output_type": "pyout",
       "prompt_number": 7,
       "text": [
        "{'index': 1,\n",
        " u'name': u'Name',\n",
        " u'nullable': u'0',\n",
        " u'primary_key': u'0',\n",
        " u'type': u'NVARCHAR(200)'}"
       ]
      }
     ],
     "prompt_number": 7
    }
   ],
   "metadata": {}
  }
 ]
}